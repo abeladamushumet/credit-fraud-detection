{
 "cells": [
  {
   "cell_type": "markdown",
   "id": "d9deeb19",
   "metadata": {},
   "source": [
    "# Model Training for Fraud Detection\n",
    "\n",
    "* This notebook walks through the process of training multiple classification models on the prepared dataset, evaluating their performance using F1-score, and saving the best performing model and evaluation metrics.\n",
    "\n",
    "\n"
   ]
  },
  {
   "cell_type": "markdown",
   "id": "579fdcd3",
   "metadata": {},
   "source": [
    "# 1.Import required libraries"
   ]
  },
  {
   "cell_type": "code",
   "execution_count": 8,
   "id": "fc6655ac",
   "metadata": {},
   "outputs": [],
   "source": [
    "import os\n",
    "from pathlib import Path\n",
    "import pandas as pd\n",
    "import joblib\n",
    "\n",
    "from sklearn.model_selection import train_test_split\n",
    "from sklearn.metrics import classification_report, recall_score, f1_score, roc_auc_score\n",
    "from imblearn.over_sampling import SMOTE\n",
    "\n",
    "from sklearn.linear_model import LogisticRegression\n",
    "from sklearn.ensemble import RandomForestClassifier\n",
    "from sklearn.tree import DecisionTreeClassifier\n",
    "from xgboost import XGBClassifier\n",
    "from lightgbm import LGBMClassifier\n",
    "\n",
    "import matplotlib.pyplot as plt\n",
    "import seaborn as sns"
   ]
  },
  {
   "cell_type": "markdown",
   "id": "a07fbdd9",
   "metadata": {},
   "source": [
    "# 2.Load Dataset\n",
    "\n",
    "* We load the preprocessed data file `final_model_input.csv` which contains all features and the target label.\n"
   ]
  },
  {
   "cell_type": "code",
   "execution_count": null,
   "id": "87493d21",
   "metadata": {},
   "outputs": [
    {
     "name": "stdout",
     "output_type": "stream",
     "text": [
      "✅ Data loaded from ../data/processed/final_model_input.csv\n",
      "📊 Dataset shape: (434838, 52)\n"
     ]
    },
    {
     "data": {
      "text/html": [
       "<div>\n",
       "<style scoped>\n",
       "    .dataframe tbody tr th:only-of-type {\n",
       "        vertical-align: middle;\n",
       "    }\n",
       "\n",
       "    .dataframe tbody tr th {\n",
       "        vertical-align: top;\n",
       "    }\n",
       "\n",
       "    .dataframe thead th {\n",
       "        text-align: right;\n",
       "    }\n",
       "</style>\n",
       "<table border=\"1\" class=\"dataframe\">\n",
       "  <thead>\n",
       "    <tr style=\"text-align: right;\">\n",
       "      <th></th>\n",
       "      <th>Amount_scaled</th>\n",
       "      <th>V1</th>\n",
       "      <th>V10</th>\n",
       "      <th>V11</th>\n",
       "      <th>V12</th>\n",
       "      <th>V13</th>\n",
       "      <th>V14</th>\n",
       "      <th>V15</th>\n",
       "      <th>V16</th>\n",
       "      <th>V17</th>\n",
       "      <th>...</th>\n",
       "      <th>country_United States</th>\n",
       "      <th>country_Unknown</th>\n",
       "      <th>day_of_week</th>\n",
       "      <th>hour_of_day</th>\n",
       "      <th>purchase_value</th>\n",
       "      <th>sex_M</th>\n",
       "      <th>source_Direct</th>\n",
       "      <th>source_SEO</th>\n",
       "      <th>time_since_signup</th>\n",
       "      <th>class</th>\n",
       "    </tr>\n",
       "  </thead>\n",
       "  <tbody>\n",
       "    <tr>\n",
       "      <th>0</th>\n",
       "      <td>0.0</td>\n",
       "      <td>0.0</td>\n",
       "      <td>0.0</td>\n",
       "      <td>0.0</td>\n",
       "      <td>0.0</td>\n",
       "      <td>0.0</td>\n",
       "      <td>0.0</td>\n",
       "      <td>0.0</td>\n",
       "      <td>0.0</td>\n",
       "      <td>0.0</td>\n",
       "      <td>...</td>\n",
       "      <td>0</td>\n",
       "      <td>1</td>\n",
       "      <td>6</td>\n",
       "      <td>10.0</td>\n",
       "      <td>46</td>\n",
       "      <td>1</td>\n",
       "      <td>1</td>\n",
       "      <td>0</td>\n",
       "      <td>29383.566667</td>\n",
       "      <td>0</td>\n",
       "    </tr>\n",
       "    <tr>\n",
       "      <th>1</th>\n",
       "      <td>0.0</td>\n",
       "      <td>0.0</td>\n",
       "      <td>0.0</td>\n",
       "      <td>0.0</td>\n",
       "      <td>0.0</td>\n",
       "      <td>0.0</td>\n",
       "      <td>0.0</td>\n",
       "      <td>0.0</td>\n",
       "      <td>0.0</td>\n",
       "      <td>0.0</td>\n",
       "      <td>...</td>\n",
       "      <td>0</td>\n",
       "      <td>1</td>\n",
       "      <td>4</td>\n",
       "      <td>17.0</td>\n",
       "      <td>33</td>\n",
       "      <td>0</td>\n",
       "      <td>0</td>\n",
       "      <td>0</td>\n",
       "      <td>18080.383333</td>\n",
       "      <td>0</td>\n",
       "    </tr>\n",
       "    <tr>\n",
       "      <th>2</th>\n",
       "      <td>0.0</td>\n",
       "      <td>0.0</td>\n",
       "      <td>0.0</td>\n",
       "      <td>0.0</td>\n",
       "      <td>0.0</td>\n",
       "      <td>0.0</td>\n",
       "      <td>0.0</td>\n",
       "      <td>0.0</td>\n",
       "      <td>0.0</td>\n",
       "      <td>0.0</td>\n",
       "      <td>...</td>\n",
       "      <td>0</td>\n",
       "      <td>1</td>\n",
       "      <td>1</td>\n",
       "      <td>8.0</td>\n",
       "      <td>33</td>\n",
       "      <td>0</td>\n",
       "      <td>1</td>\n",
       "      <td>0</td>\n",
       "      <td>12488.666667</td>\n",
       "      <td>0</td>\n",
       "    </tr>\n",
       "    <tr>\n",
       "      <th>3</th>\n",
       "      <td>0.0</td>\n",
       "      <td>0.0</td>\n",
       "      <td>0.0</td>\n",
       "      <td>0.0</td>\n",
       "      <td>0.0</td>\n",
       "      <td>0.0</td>\n",
       "      <td>0.0</td>\n",
       "      <td>0.0</td>\n",
       "      <td>0.0</td>\n",
       "      <td>0.0</td>\n",
       "      <td>...</td>\n",
       "      <td>0</td>\n",
       "      <td>1</td>\n",
       "      <td>3</td>\n",
       "      <td>21.0</td>\n",
       "      <td>33</td>\n",
       "      <td>1</td>\n",
       "      <td>0</td>\n",
       "      <td>0</td>\n",
       "      <td>123910.566667</td>\n",
       "      <td>0</td>\n",
       "    </tr>\n",
       "    <tr>\n",
       "      <th>4</th>\n",
       "      <td>0.0</td>\n",
       "      <td>0.0</td>\n",
       "      <td>0.0</td>\n",
       "      <td>0.0</td>\n",
       "      <td>0.0</td>\n",
       "      <td>0.0</td>\n",
       "      <td>0.0</td>\n",
       "      <td>0.0</td>\n",
       "      <td>0.0</td>\n",
       "      <td>0.0</td>\n",
       "      <td>...</td>\n",
       "      <td>0</td>\n",
       "      <td>1</td>\n",
       "      <td>6</td>\n",
       "      <td>7.0</td>\n",
       "      <td>55</td>\n",
       "      <td>1</td>\n",
       "      <td>0</td>\n",
       "      <td>0</td>\n",
       "      <td>23460.316667</td>\n",
       "      <td>0</td>\n",
       "    </tr>\n",
       "  </tbody>\n",
       "</table>\n",
       "<p>5 rows × 52 columns</p>\n",
       "</div>"
      ],
      "text/plain": [
       "   Amount_scaled   V1  V10  V11  V12  V13  V14  V15  V16  V17  ...  \\\n",
       "0            0.0  0.0  0.0  0.0  0.0  0.0  0.0  0.0  0.0  0.0  ...   \n",
       "1            0.0  0.0  0.0  0.0  0.0  0.0  0.0  0.0  0.0  0.0  ...   \n",
       "2            0.0  0.0  0.0  0.0  0.0  0.0  0.0  0.0  0.0  0.0  ...   \n",
       "3            0.0  0.0  0.0  0.0  0.0  0.0  0.0  0.0  0.0  0.0  ...   \n",
       "4            0.0  0.0  0.0  0.0  0.0  0.0  0.0  0.0  0.0  0.0  ...   \n",
       "\n",
       "   country_United States  country_Unknown  day_of_week  hour_of_day  \\\n",
       "0                      0                1            6         10.0   \n",
       "1                      0                1            4         17.0   \n",
       "2                      0                1            1          8.0   \n",
       "3                      0                1            3         21.0   \n",
       "4                      0                1            6          7.0   \n",
       "\n",
       "   purchase_value  sex_M  source_Direct  source_SEO  time_since_signup  class  \n",
       "0              46      1              1           0       29383.566667      0  \n",
       "1              33      0              0           0       18080.383333      0  \n",
       "2              33      0              1           0       12488.666667      0  \n",
       "3              33      1              0           0      123910.566667      0  \n",
       "4              55      1              0           0       23460.316667      0  \n",
       "\n",
       "[5 rows x 52 columns]"
      ]
     },
     "metadata": {},
     "output_type": "display_data"
    }
   ],
   "source": [
    "#  Load Preprocessed Dataset\n",
    "data_path = \"../data/processed/final_model_input.csv\"\n",
    "data = pd.read_csv(data_path)\n",
    "\n",
    "print(f\"✅ Data loaded from {data_path}\")\n",
    "print(f\"📊 Dataset shape: {data.shape}\")\n",
    "display(data.head())\n"
   ]
  },
  {
   "cell_type": "markdown",
   "id": "197a7967",
   "metadata": {},
   "source": [
    "## 3.Split Features and Target\n",
    "\n",
    "- Separate the features (`X`) from the class (`y`).\n",
    "- The target column is named `\"class\"`.\n"
   ]
  },
  {
   "cell_type": "code",
   "execution_count": null,
   "id": "6c983cf9",
   "metadata": {},
   "outputs": [
    {
     "name": "stdout",
     "output_type": "stream",
     "text": [
      "✅ Features shape: (434838, 51)\n",
      "📈 Target distribution:\n",
      "class\n",
      "0    0.966369\n",
      "1    0.033631\n",
      "Name: proportion, dtype: float64\n"
     ]
    }
   ],
   "source": [
    "#  Split Features and Target\n",
    "target_col = \"class\"\n",
    "X = data.drop(columns=[target_col])\n",
    "y = data[target_col]\n",
    "\n",
    "print(f\"✅ Features shape: {X.shape}\")\n",
    "print(f\"📈 Target distribution:\\n{y.value_counts(normalize=True)}\")"
   ]
  },
  {
   "cell_type": "markdown",
   "id": "48cabc88",
   "metadata": {},
   "source": [
    "## Train-Test Split\n",
    "\n",
    "Split the data into training and testing sets with 80% for training and 20% for testing.\n"
   ]
  },
  {
   "cell_type": "code",
   "execution_count": null,
   "id": "66110fa9",
   "metadata": {},
   "outputs": [
    {
     "name": "stdout",
     "output_type": "stream",
     "text": [
      "🧪 Train shape: (347870, 51), Test shape: (86968, 51)\n"
     ]
    }
   ],
   "source": [
    "#  Train-Test Split (Stratified)\n",
    "X_train, X_test, y_train, y_test = train_test_split(\n",
    "    X, y, test_size=0.2, stratify=y, random_state=42\n",
    ")\n",
    "\n",
    "print(f\" Train shape: {X_train.shape}, Test shape: {X_test.shape}\")"
   ]
  },
  {
   "cell_type": "markdown",
   "id": "f2080628",
   "metadata": {},
   "source": [
    "#  Handle Class Imbalance with SMOTE on Training Set ONLY"
   ]
  },
  {
   "cell_type": "code",
   "execution_count": 12,
   "id": "094ed910",
   "metadata": {},
   "outputs": [
    {
     "name": "stdout",
     "output_type": "stream",
     "text": [
      "🔄 Applying SMOTE to balance training data...\n",
      "Training data after SMOTE: class\n",
      "0    0.5\n",
      "1    0.5\n",
      "Name: proportion, dtype: float64\n"
     ]
    }
   ],
   "source": [
    "print(\"🔄 Applying SMOTE to balance training data...\")\n",
    "smote = SMOTE(random_state=42)\n",
    "X_train_bal, y_train_bal = smote.fit_resample(X_train, y_train)\n",
    "print(f\"Training data after SMOTE: {pd.Series(y_train_bal).value_counts(normalize=True)}\")"
   ]
  },
  {
   "cell_type": "markdown",
   "id": "cff0e9ae",
   "metadata": {},
   "source": [
    "## Define Candidate Models\n",
    "\n",
    "We will train the following models:\n",
    "- Logistic Regression\n",
    "- Random Forest\n",
    "- Decision Tree\n",
    "- Support Vector Machine (SVM)\n",
    "- Gradient Boosting\n",
    "- XGBoost\n",
    "- LightGBM\n"
   ]
  },
  {
   "cell_type": "code",
   "execution_count": null,
   "id": "5dc4c1d6",
   "metadata": {},
   "outputs": [],
   "source": [
    "#  Define Candidate Models\n",
    "models = {\n",
    "    \"Logistic Regression\": LogisticRegression(max_iter=1000),\n",
    "    \"Random Forest\": RandomForestClassifier(),\n",
    "    \"Decision Tree\": DecisionTreeClassifier(),\n",
    "    \"XGBoost\": XGBClassifier(use_label_encoder=False, eval_metric=\"logloss\"),\n",
    "    \"LightGBM\": LGBMClassifier()\n",
    "}"
   ]
  },
  {
   "cell_type": "markdown",
   "id": "7e48a30d",
   "metadata": {},
   "source": [
    "## Train and Evaluate Models\n",
    "\n",
    "For each model:\n",
    "- Train on the training set\n",
    "- Predict on the test set\n",
    "- Calculate the weighted F1-score\n",
    "- Keep track of the best performing model\n"
   ]
  },
  {
   "cell_type": "code",
   "execution_count": 14,
   "id": "bc934329",
   "metadata": {},
   "outputs": [
    {
     "name": "stdout",
     "output_type": "stream",
     "text": [
      "\n",
      "🚀 Training: Logistic Regression\n"
     ]
    },
    {
     "name": "stderr",
     "output_type": "stream",
     "text": [
      "c:\\Users\\hp\\AppData\\Local\\Programs\\Python\\Python313\\Lib\\site-packages\\sklearn\\linear_model\\_logistic.py:465: ConvergenceWarning: lbfgs failed to converge (status=1):\n",
      "STOP: TOTAL NO. OF ITERATIONS REACHED LIMIT.\n",
      "\n",
      "Increase the number of iterations (max_iter) or scale the data as shown in:\n",
      "    https://scikit-learn.org/stable/modules/preprocessing.html\n",
      "Please also refer to the documentation for alternative solver options:\n",
      "    https://scikit-learn.org/stable/modules/linear_model.html#logistic-regression\n",
      "  n_iter_i = _check_optimize_result(\n"
     ]
    },
    {
     "name": "stdout",
     "output_type": "stream",
     "text": [
      "📈 Recall Score: 0.7860\n",
      "📈 F1 Score: 0.2047\n",
      "📈 ROC AUC Score: 0.8758\n",
      "\n",
      "🚀 Training: Random Forest\n",
      "📈 Recall Score: 0.5915\n",
      "📈 F1 Score: 0.4850\n",
      "📈 ROC AUC Score: 0.9205\n",
      "\n",
      "🚀 Training: Decision Tree\n",
      "📈 Recall Score: 0.5959\n",
      "📈 F1 Score: 0.4569\n",
      "📈 ROC AUC Score: 0.7803\n",
      "\n",
      "🚀 Training: XGBoost\n"
     ]
    },
    {
     "name": "stderr",
     "output_type": "stream",
     "text": [
      "c:\\Users\\hp\\AppData\\Local\\Programs\\Python\\Python313\\Lib\\site-packages\\xgboost\\training.py:183: UserWarning: [15:39:45] WARNING: C:\\actions-runner\\_work\\xgboost\\xgboost\\src\\learner.cc:738: \n",
      "Parameters: { \"use_label_encoder\" } are not used.\n",
      "\n",
      "  bst.update(dtrain, iteration=i, fobj=obj)\n"
     ]
    },
    {
     "name": "stdout",
     "output_type": "stream",
     "text": [
      "📈 Recall Score: 0.5887\n",
      "📈 F1 Score: 0.4866\n",
      "📈 ROC AUC Score: 0.9235\n",
      "\n",
      "🚀 Training: LightGBM\n",
      "[LightGBM] [Warning] Found whitespace in feature_names, replace with underlines\n",
      "[LightGBM] [Info] Number of positive: 336171, number of negative: 336171\n",
      "[LightGBM] [Info] Auto-choosing row-wise multi-threading, the overhead of testing was 0.380676 seconds.\n",
      "You can set `force_row_wise=true` to remove the overhead.\n",
      "And if memory is not enough, you can set `force_col_wise=true`.\n",
      "[LightGBM] [Info] Total Bins 8107\n",
      "[LightGBM] [Info] Number of data points in the train set: 672342, number of used features: 51\n",
      "[LightGBM] [Info] [binary:BoostFromScore]: pavg=0.500000 -> initscore=0.000000\n",
      "📈 Recall Score: 0.5621\n",
      "📈 F1 Score: 0.6334\n",
      "📈 ROC AUC Score: 0.9250\n",
      "\n",
      "✅ Best model based on Recall: Logistic Regression (0.7860)\n",
      "\n",
      "⚠️ Forcing LightGBM as the final selected model.\n",
      "[LightGBM] [Warning] Found whitespace in feature_names, replace with underlines\n",
      "[LightGBM] [Info] Number of positive: 336171, number of negative: 336171\n",
      "[LightGBM] [Info] Auto-choosing row-wise multi-threading, the overhead of testing was 0.363716 seconds.\n",
      "You can set `force_row_wise=true` to remove the overhead.\n",
      "And if memory is not enough, you can set `force_col_wise=true`.\n",
      "[LightGBM] [Info] Total Bins 8105\n",
      "[LightGBM] [Info] Number of data points in the train set: 672342, number of used features: 51\n",
      "[LightGBM] [Info] [binary:BoostFromScore]: pavg=0.500000 -> initscore=0.000000\n",
      "LightGBM Weighted Recall after forcing: 0.5614\n"
     ]
    }
   ],
   "source": [
    "#  Train & Evaluate modelresults = []\n",
    "best_model = None\n",
    "best_score = 0\n",
    "best_model_name = None\n",
    "\n",
    "for name, model in models.items():\n",
    "    print(f\"\\n🚀 Training: {name}\")\n",
    "    model.fit(X_train_bal, y_train_bal)\n",
    "    preds = model.predict(X_test)\n",
    "    \n",
    "    recall = recall_score(y_test, preds, zero_division=0)\n",
    "    f1 = f1_score(y_test, preds, zero_division=0)\n",
    "    \n",
    "    try:\n",
    "        roc_auc = roc_auc_score(y_test, model.predict_proba(X_test)[:,1])\n",
    "    except:\n",
    "        roc_auc = None\n",
    "    \n",
    "    print(f\"📈 Recall Score: {recall:.4f}\")\n",
    "    print(f\"📈 F1 Score: {f1:.4f}\")\n",
    "    if roc_auc:\n",
    "        print(f\"📈 ROC AUC Score: {roc_auc:.4f}\")\n",
    "\n",
    "    results.append({\"Model\": name, \"Recall\": recall, \"F1\": f1, \"ROC_AUC\": roc_auc or 0})\n",
    "\n",
    "    if recall > best_score:\n",
    "        best_score = recall\n",
    "        best_model = model\n",
    "        best_model_name = name\n",
    "\n",
    "print(f\"\\n✅ Best model based on Recall: {best_model_name} ({best_score:.4f})\")\n",
    "\n",
    "# --- Force LightGBM as best model ---\n",
    "print(\"\\n⚠️ Forcing LightGBM as the final selected model.\")\n",
    "\n",
    "lightgbm_model = LGBMClassifier(random_state=42)\n",
    "lightgbm_model.fit(X_train_bal, y_train_bal)\n",
    "best_model = lightgbm_model\n",
    "best_model_name = \"LightGBM (Forced)\"\n",
    "preds = best_model.predict(X_test)\n",
    "best_score = recall_score(y_test, preds, zero_division=0)\n",
    "\n",
    "print(f\"LightGBM Weighted Recall after forcing: {best_score:.4f}\")"
   ]
  },
  {
   "cell_type": "markdown",
   "id": "35df0cd4",
   "metadata": {},
   "source": [
    "## Save Artifacts\n",
    "\n",
    "- Save the best model to `output/models/best_model.pkl`\n",
    "- Save predictions on test set to `output/predictions/test_predictions.csv`\n",
    "- Save classification report to `output/metrics/classification_report.json`\n"
   ]
  },
  {
   "cell_type": "code",
   "execution_count": 15,
   "id": "ed4361ad",
   "metadata": {},
   "outputs": [
    {
     "name": "stdout",
     "output_type": "stream",
     "text": [
      "✅ Forced LightGBM model saved to: outputs\\models\\best_model.pkl\n",
      "✅ Test predictions saved.\n",
      "✅ Classification report saved.\n",
      "✅ Test split saved.\n"
     ]
    }
   ],
   "source": [
    "# 8. Save Artifacts\n",
    "output_dirs = {\n",
    "    \"model\": Path(\"outputs/models\"),\n",
    "    \"pred\": Path(\"outputs/predictions\"),\n",
    "    \"report\": Path(\"outputs/metrics\"),\n",
    "    \"split\": Path(\"outputs/data_splits\")\n",
    "}\n",
    "\n",
    "for dir_path in output_dirs.values():\n",
    "    dir_path.mkdir(parents=True, exist_ok=True)\n",
    "\n",
    "# Save forced LightGBM model\n",
    "model_path = output_dirs[\"model\"] / \"best_model.pkl\"\n",
    "joblib.dump(best_model, model_path)\n",
    "print(f\"✅ Forced LightGBM model saved to: {model_path}\")\n",
    "\n",
    "# Save predictions on test set\n",
    "pred_df = pd.DataFrame({\"prediction\": preds})\n",
    "pred_df.to_csv(output_dirs[\"pred\"] / \"test_predictions.csv\", index=False)\n",
    "print(\"✅ Test predictions saved.\")\n",
    "\n",
    "# Save classification report\n",
    "report = classification_report(y_test, preds, output_dict=True)\n",
    "pd.DataFrame(report).T.to_json(output_dirs[\"report\"] / \"classification_report.json\", indent=4)\n",
    "print(\"✅ Classification report saved.\")\n",
    "\n",
    "# Save test split\n",
    "X_test.to_csv(output_dirs[\"split\"] / \"X_test.csv\", index=False)\n",
    "y_test.to_csv(output_dirs[\"split\"] / \"y_test.csv\", index=False)\n",
    "print(\"✅ Test split saved.\")"
   ]
  },
  {
   "cell_type": "markdown",
   "id": "207d94f5",
   "metadata": {},
   "source": [
    "# Plot metrics summary"
   ]
  },
  {
   "cell_type": "code",
   "execution_count": 17,
   "id": "c3614f11",
   "metadata": {},
   "outputs": [
    {
     "data": {
      "image/png": "[encoded data removed]",
      "text/plain": [
       "<Figure size 1000x600 with 1 Axes>"
      ]
     },
     "metadata": {},
     "output_type": "display_data"
    }
   ],
   "source": [
    "results_df = pd.DataFrame(results).set_index(\"Model\")\n",
    "results_df.plot(kind=\"bar\", figsize=(10, 6))\n",
    "plt.title(\"Model Evaluation Metrics (Before Forcing LightGBM)\")\n",
    "plt.ylabel(\"Score\")\n",
    "plt.ylim(0, 1)\n",
    "plt.grid(axis='y')\n",
    "\n",
    "\n",
    "plt.savefig(\"figures/model_evaluation_metrics.png\", bbox_inches='tight', dpi=300)\n",
    "\n",
    "# Show the plot\n",
    "plt.show()"
   ]
  }
 ],
 "metadata": {
  "kernelspec": {
   "display_name": "Python 3",
   "language": "python",
   "name": "python3"
  },
  "language_info": {
   "codemirror_mode": {
    "name": "ipython",
    "version": 3
   },
   "file_extension": ".py",
   "mimetype": "text/x-python",
   "name": "python",
   "nbconvert_exporter": "python",
   "pygments_lexer": "ipython3",
   "version": "3.13.3"
  }
 },
 "nbformat": 4,
 "nbformat_minor": 5
}
