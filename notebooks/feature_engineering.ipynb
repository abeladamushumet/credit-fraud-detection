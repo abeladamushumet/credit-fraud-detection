{
 "cells": [
  {
   "cell_type": "markdown",
   "id": "d57cf14b",
   "metadata": {},
   "source": [
    "## 1. Import Libraries and Load Cleaned Data"
   ]
  },
  {
   "cell_type": "code",
   "execution_count": 4,
   "id": "8e7553d8",
   "metadata": {},
   "outputs": [],
   "source": [
    "# ======================================\n",
    "# 1. Setup & Imports\n",
    "# ======================================\n",
    "import pandas as pd\n",
    "import numpy as np\n",
    "import os\n",
    "import sys\n",
    "\n",
    "# Extend Python path to use modules from src/\n",
    "sys.path.append(\"../src\")"
   ]
  },
  {
   "cell_type": "code",
   "execution_count": 5,
   "id": "3cba85ee",
   "metadata": {},
   "outputs": [],
   "source": [
    "# Custom modules\n",
    "from data_loader import load_all_data\n",
    "from preprocessing import (\n",
    "    clean_fraud_data,\n",
    "    clean_creditcard_data,\n",
    "    clean_ip_country_data\n",
    ")\n",
    "from feature_engineering import (\n",
    "    extract_time_features,\n",
    "    map_ip_to_country,\n",
    "    transaction_frequency_features,\n",
    "    encode_categorical_features,\n",
    "    scale_numeric_features\n",
    ")\n",
    "from sklearn.preprocessing import StandardScaler"
   ]
  },
  {
   "cell_type": "code",
   "execution_count": null,
   "id": "21ed600a",
   "metadata": {},
   "outputs": [
    {
     "name": "stdout",
     "output_type": "stream",
     "text": [
      "Loaded Fraud Data: (151112, 11) rows, columns: ['user_id', 'signup_time', 'purchase_time', 'purchase_value', 'device_id', 'source', 'browser', 'sex', 'age', 'ip_address', 'class']\n",
      "Loaded Credit Card Data: (284807, 31) rows, columns: ['Time', 'V1', 'V2', 'V3', 'V4', 'V5', 'V6', 'V7', 'V8', 'V9', 'V10', 'V11', 'V12', 'V13', 'V14', 'V15', 'V16', 'V17', 'V18', 'V19', 'V20', 'V21', 'V22', 'V23', 'V24', 'V25', 'V26', 'V27', 'V28', 'Amount', 'Class']\n",
      "Loaded IP-Country Data: (138846, 3) rows, columns: ['lower_bound_ip_address', 'upper_bound_ip_address', 'country']\n"
     ]
    }
   ],
   "source": [
    "# ======================================\n",
    "raw_dir = \"../data/raw\"\n",
    "processed_dir = \"../data/processed\"\n",
    "\n",
    "\n",
    "# Load all data\n",
    "fraud_df_raw, credit_df_raw, ip_df_raw = load_all_data(raw_dir)\n",
    "\n",
    "# Clean datasets\n",
    "fraud_df = clean_fraud_data(fraud_df_raw)\n",
    "credit_df = clean_creditcard_data(credit_df_raw)\n",
    "ip_country_df = clean_ip_country_data(ip_df_raw)\n",
    "\n",
    "# Save cleaned data \n",
    "fraud_df.to_csv(f\"{processed_dir}/fraud_data_cleaned.csv\", index=False)\n",
    "credit_df.to_csv(f\"{processed_dir}/creditcard_cleaned.csv\", index=False)\n",
    "ip_country_df.to_csv(f\"{processed_dir}/ip_country_cleaned.csv\", index=False)\n",
    "\n",
    "# ======================================"
   ]
  },
  {
   "cell_type": "markdown",
   "id": "7cce76f6",
   "metadata": {},
   "source": [
    "## 2. Feature Engineering on Fraud Dataset (fraud_df)"
   ]
  },
  {
   "cell_type": "markdown",
   "id": "2ac159c3",
   "metadata": {},
   "source": [
    "### A. Extract Time-Based Features"
   ]
  },
  {
   "cell_type": "code",
   "execution_count": 7,
   "id": "02717a81",
   "metadata": {},
   "outputs": [],
   "source": [
    "fraud_df = extract_time_features(fraud_df)"
   ]
  },
  {
   "cell_type": "markdown",
   "id": "08057e12",
   "metadata": {},
   "source": [
    "### B. Transaction Frequency"
   ]
  },
  {
   "cell_type": "code",
   "execution_count": 12,
   "id": "6cbdc698",
   "metadata": {},
   "outputs": [],
   "source": [
    "def transaction_frequency_features(df, user_col='user_id', time_col='timestamp', window='1D'):\n",
    "    df[time_col] = pd.to_datetime(df[time_col])\n",
    "    \n",
    "    # Sort by user and time\n",
    "    df = df.sort_values(by=[user_col, time_col])\n",
    "    \n",
    "    # Create rolling feature\n",
    "    df['txn_freq_last_1D'] = (\n",
    "        df.set_index(time_col)\n",
    "          .groupby(user_col)\n",
    "          .rolling(window=window)\n",
    "          .size()\n",
    "          .reset_index(level=0, drop=True)\n",
    "    )\n",
    "\n",
    "    return df\n"
   ]
  },
  {
   "cell_type": "markdown",
   "id": "14db16d6",
   "metadata": {},
   "source": [
    "### C. Geolocation (Country) Feature"
   ]
  },
  {
   "cell_type": "code",
   "execution_count": 13,
   "id": "13f5d615",
   "metadata": {},
   "outputs": [],
   "source": [
    "fraud_df['ip_int'] = fraud_df['ip_address'].astype('int64')\n",
    "fraud_df = map_ip_to_country(fraud_df, ip_country_df)"
   ]
  },
  {
   "cell_type": "markdown",
   "id": "ebbe4734",
   "metadata": {},
   "source": [
    "### D. Fill remaining missing values (if any)"
   ]
  },
  {
   "cell_type": "code",
   "execution_count": 14,
   "id": "978599cc",
   "metadata": {},
   "outputs": [],
   "source": [
    "fraud_df.fillna(-1, inplace=True)"
   ]
  },
  {
   "cell_type": "markdown",
   "id": "8b6b5db7",
   "metadata": {},
   "source": [
    "## 3. Feature Engineering on Credit Card Dataset (credit_df)"
   ]
  },
  {
   "cell_type": "markdown",
   "id": "4d762f28",
   "metadata": {},
   "source": [
    "### A. Time Feature"
   ]
  },
  {
   "cell_type": "code",
   "execution_count": 15,
   "id": "07966d74",
   "metadata": {},
   "outputs": [],
   "source": [
    "# 'Time' is seconds since first transaction, extract hour of day assuming day starts at 0\n",
    "credit_df['hour_of_day'] = (credit_df['Time'] // 3600) % 24"
   ]
  },
  {
   "cell_type": "markdown",
   "id": "d250f619",
   "metadata": {},
   "source": [
    "### B. Scale Amount"
   ]
  },
  {
   "cell_type": "code",
   "execution_count": 16,
   "id": "cd0028b8",
   "metadata": {},
   "outputs": [],
   "source": [
    "scaler = StandardScaler()\n",
    "credit_df = scale_numeric_features(credit_df, ['Amount'], scaler)\n",
    "credit_df.rename(columns={'Amount': 'Amount_scaled'}, inplace=True)"
   ]
  },
  {
   "cell_type": "markdown",
   "id": "827dbbe2",
   "metadata": {},
   "source": [
    "### C. Amount Normalization or Binning"
   ]
  },
  {
   "cell_type": "code",
   "execution_count": 22,
   "id": "0165664d",
   "metadata": {},
   "outputs": [
    {
     "name": "stdout",
     "output_type": "stream",
     "text": [
      "['Time', 'V1', 'V2', 'V3', 'V4', 'V5', 'V6', 'V7', 'V8', 'V9', 'V10', 'V11', 'V12', 'V13', 'V14', 'V15', 'V16', 'V17', 'V18', 'V19', 'V20', 'V21', 'V22', 'V23', 'V24', 'V25', 'V26', 'V27', 'V28', 'Amount_scaled', 'Class', 'hour_of_day']\n"
     ]
    }
   ],
   "source": [
    "print(credit_df.columns.tolist())\n"
   ]
  },
  {
   "cell_type": "code",
   "execution_count": 28,
   "id": "0e943ed8",
   "metadata": {},
   "outputs": [
    {
     "data": {
      "text/html": [
       "<div>\n",
       "<style scoped>\n",
       "    .dataframe tbody tr th:only-of-type {\n",
       "        vertical-align: middle;\n",
       "    }\n",
       "\n",
       "    .dataframe tbody tr th {\n",
       "        vertical-align: top;\n",
       "    }\n",
       "\n",
       "    .dataframe thead th {\n",
       "        text-align: right;\n",
       "    }\n",
       "</style>\n",
       "<table border=\"1\" class=\"dataframe\">\n",
       "  <thead>\n",
       "    <tr style=\"text-align: right;\">\n",
       "      <th></th>\n",
       "      <th>Amount_scaled</th>\n",
       "      <th>Amount_bin</th>\n",
       "    </tr>\n",
       "  </thead>\n",
       "  <tbody>\n",
       "    <tr>\n",
       "      <th>0</th>\n",
       "      <td>0.244200</td>\n",
       "      <td>4</td>\n",
       "    </tr>\n",
       "    <tr>\n",
       "      <th>1</th>\n",
       "      <td>-0.342584</td>\n",
       "      <td>0</td>\n",
       "    </tr>\n",
       "    <tr>\n",
       "      <th>2</th>\n",
       "      <td>1.158900</td>\n",
       "      <td>4</td>\n",
       "    </tr>\n",
       "    <tr>\n",
       "      <th>3</th>\n",
       "      <td>0.139886</td>\n",
       "      <td>4</td>\n",
       "    </tr>\n",
       "    <tr>\n",
       "      <th>4</th>\n",
       "      <td>-0.073813</td>\n",
       "      <td>3</td>\n",
       "    </tr>\n",
       "  </tbody>\n",
       "</table>\n",
       "</div>"
      ],
      "text/plain": [
       "   Amount_scaled  Amount_bin\n",
       "0       0.244200           4\n",
       "1      -0.342584           0\n",
       "2       1.158900           4\n",
       "3       0.139886           4\n",
       "4      -0.073813           3"
      ]
     },
     "execution_count": 28,
     "metadata": {},
     "output_type": "execute_result"
    }
   ],
   "source": [
    "# 1. Scale the 'Amount' column\n",
    "scaler = StandardScaler()\n",
    "credit_df['Amount_scaled1'] = scaler.fit_transform(credit_df[['Amount_scaled']])\n",
    "\n",
    "# 2. Bin the scaled 'Amount_scaled' into 5 quantile-based bins\n",
    "credit_df['Amount_bin'] = pd.qcut(credit_df['Amount_scaled'], q=5, labels=False)\n",
    "\n",
    "# Show result\n",
    "credit_df[[ 'Amount_scaled', 'Amount_bin']].head()\n"
   ]
  },
  {
   "cell_type": "markdown",
   "id": "6bc37d28",
   "metadata": {},
   "source": [
    "## 4. Encoding Categorical Variables (Fraud Dataset)"
   ]
  },
  {
   "cell_type": "code",
   "execution_count": 30,
   "id": "50f4d367",
   "metadata": {},
   "outputs": [],
   "source": [
    "# One-hot encode categorical columns such as 'source', 'browser', 'sex', 'country'categorical_cols = ['source', 'browser', 'sex', 'country']\n",
    "categorical_cols = ['source', 'browser', 'sex', 'country']\n",
    "fraud_df = encode_categorical_features(fraud_df, categorical_cols)"
   ]
  },
  {
   "cell_type": "markdown",
   "id": "5c752bc2",
   "metadata": {},
   "source": [
    "## 5. Handle Missing Values & Final Checks"
   ]
  },
  {
   "cell_type": "code",
   "execution_count": 31,
   "id": "97d643d9",
   "metadata": {},
   "outputs": [
    {
     "name": "stdout",
     "output_type": "stream",
     "text": [
      "user_id                          0\n",
      "signup_time                      0\n",
      "purchase_time                    0\n",
      "purchase_value                   0\n",
      "device_id                        0\n",
      "                                ..\n",
      "country_Viet Nam                 0\n",
      "country_Virgin Islands (U.S.)    0\n",
      "country_Yemen                    0\n",
      "country_Zambia                   0\n",
      "country_Zimbabwe                 0\n",
      "Length: 202, dtype: int64\n"
     ]
    }
   ],
   "source": [
    "# Check missing values after feature engineering\n",
    "print(fraud_df.isnull().sum())\n",
    "\n",
    "# Fill or drop missing values accordingly\n",
    "fraud_df.fillna(-1, inplace=True)\n",
    "credit_df.fillna(0, inplace=True)"
   ]
  },
  {
   "cell_type": "markdown",
   "id": "142b04a0",
   "metadata": {},
   "source": [
    "## 6. Save the New Feature-Enhanced Data"
   ]
  },
  {
   "cell_type": "code",
   "execution_count": 32,
   "id": "683e56d1",
   "metadata": {},
   "outputs": [],
   "source": [
    "fraud_df.to_csv('../data/processed/fraud_data_features.csv', index=False)\n",
    "credit_df.to_csv('../data/processed/creditcard_features.csv', index=False)"
   ]
  }
 ],
 "metadata": {
  "kernelspec": {
   "display_name": "Python 3",
   "language": "python",
   "name": "python3"
  },
  "language_info": {
   "codemirror_mode": {
    "name": "ipython",
    "version": 3
   },
   "file_extension": ".py",
   "mimetype": "text/x-python",
   "name": "python",
   "nbconvert_exporter": "python",
   "pygments_lexer": "ipython3",
   "version": "3.13.3"
  }
 },
 "nbformat": 4,
 "nbformat_minor": 5
}
